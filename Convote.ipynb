{
 "cells": [
  {
   "cell_type": "markdown",
   "metadata": {},
   "source": [
    "## Convote Dataset - Basic Preprocessing\n",
    "- Data Main Page: http://www.cs.cornell.edu/home/llee/data/convote.html \n",
    "- About the Data: http://www.cs.cornell.edu/home/llee/data/convote/README.v1.1.txt\n"
   ]
  },
  {
   "cell_type": "code",
   "execution_count": 1,
   "metadata": {},
   "outputs": [],
   "source": [
    "import pandas as pd\n",
    "import os\n",
    "import string\n",
    "import nltk\n",
    "from nltk.tokenize import regexp_tokenize, word_tokenize, sent_tokenize\n",
    "from nltk.probability import FreqDist"
   ]
  },
  {
   "cell_type": "code",
   "execution_count": 2,
   "metadata": {},
   "outputs": [],
   "source": [
    "# For now, we will use the data from stage one\n",
    "train_path = ('./convote_v1.1/data_stage_one/training_set/')\n",
    "test_path = ('./convote_v1.1/data_stage_one/test_set/')\n",
    "train_file_names = os.listdir(train_path)\n",
    "test_file_names = os.listdir(test_path)\n",
    "\n",
    "# Create Dictionary for File Name and Text\n",
    "file_name_and_text = {}\n",
    "for file in train_file_names:\n",
    "    with open(train_path + file, 'r') as target_file:\n",
    "         file_name_and_text[file] = target_file.read()\n",
    "\n",
    "# Structure the dataframe such that the file name is the index\n",
    "train_data = (pd.DataFrame.from_dict(file_name_and_text, orient='index')\n",
    "             .reset_index().rename(index = str, columns = {'index': 'File', 0: 'Text'}))\n",
    "\n",
    "# This is redundant but fastest given the data is partitioned into directories\n",
    "file_name_and_text = {}\n",
    "for file in test_file_names:\n",
    "    with open(test_path + file, 'r') as target_file:\n",
    "         file_name_and_text[file] = target_file.read()\n",
    "\n",
    "test_data = (pd.DataFrame.from_dict(file_name_and_text, orient='index')\n",
    "             .reset_index().rename(index = str, columns = {'index': 'File', 0: 'Text'}))"
   ]
  },
  {
   "cell_type": "code",
   "execution_count": 3,
   "metadata": {},
   "outputs": [
    {
     "data": {
      "text/html": [
       "<div>\n",
       "<style scoped>\n",
       "    .dataframe tbody tr th:only-of-type {\n",
       "        vertical-align: middle;\n",
       "    }\n",
       "\n",
       "    .dataframe tbody tr th {\n",
       "        vertical-align: top;\n",
       "    }\n",
       "\n",
       "    .dataframe thead th {\n",
       "        text-align: right;\n",
       "    }\n",
       "</style>\n",
       "<table border=\"1\" class=\"dataframe\">\n",
       "  <thead>\n",
       "    <tr style=\"text-align: right;\">\n",
       "      <th></th>\n",
       "      <th>File</th>\n",
       "      <th>Text</th>\n",
       "    </tr>\n",
       "  </thead>\n",
       "  <tbody>\n",
       "    <tr>\n",
       "      <th>0</th>\n",
       "      <td>282_400436_1413023_DMN.txt</td>\n",
       "      <td>mr. speaker , i would like to say a word about...</td>\n",
       "    </tr>\n",
       "    <tr>\n",
       "      <th>1</th>\n",
       "      <td>088_400272_2994052_DON.txt</td>\n",
       "      <td>mr. speaker , today we have some very clear ch...</td>\n",
       "    </tr>\n",
       "    <tr>\n",
       "      <th>2</th>\n",
       "      <td>038_400080_0251064_DON.txt</td>\n",
       "      <td>mr. speaker , i yield myself such time as i ma...</td>\n",
       "    </tr>\n",
       "    <tr>\n",
       "      <th>3</th>\n",
       "      <td>132_400227_0763073_DON.txt</td>\n",
       "      <td>mr. chairman , i yield back the balance of my ...</td>\n",
       "    </tr>\n",
       "    <tr>\n",
       "      <th>4</th>\n",
       "      <td>282_400380_1838049_ROY.txt</td>\n",
       "      <td>madam chairman , will the gentleman yield ? \\n</td>\n",
       "    </tr>\n",
       "  </tbody>\n",
       "</table>\n",
       "</div>"
      ],
      "text/plain": [
       "                         File  \\\n",
       "0  282_400436_1413023_DMN.txt   \n",
       "1  088_400272_2994052_DON.txt   \n",
       "2  038_400080_0251064_DON.txt   \n",
       "3  132_400227_0763073_DON.txt   \n",
       "4  282_400380_1838049_ROY.txt   \n",
       "\n",
       "                                                Text  \n",
       "0  mr. speaker , i would like to say a word about...  \n",
       "1  mr. speaker , today we have some very clear ch...  \n",
       "2  mr. speaker , i yield myself such time as i ma...  \n",
       "3  mr. chairman , i yield back the balance of my ...  \n",
       "4     madam chairman , will the gentleman yield ? \\n  "
      ]
     },
     "execution_count": 3,
     "metadata": {},
     "output_type": "execute_result"
    }
   ],
   "source": [
    "train_data.head()"
   ]
  },
  {
   "cell_type": "code",
   "execution_count": 4,
   "metadata": {},
   "outputs": [
    {
     "data": {
      "text/html": [
       "<div>\n",
       "<style scoped>\n",
       "    .dataframe tbody tr th:only-of-type {\n",
       "        vertical-align: middle;\n",
       "    }\n",
       "\n",
       "    .dataframe tbody tr th {\n",
       "        vertical-align: top;\n",
       "    }\n",
       "\n",
       "    .dataframe thead th {\n",
       "        text-align: right;\n",
       "    }\n",
       "</style>\n",
       "<table border=\"1\" class=\"dataframe\">\n",
       "  <thead>\n",
       "    <tr style=\"text-align: right;\">\n",
       "      <th></th>\n",
       "      <th>File</th>\n",
       "      <th>Text</th>\n",
       "    </tr>\n",
       "  </thead>\n",
       "  <tbody>\n",
       "    <tr>\n",
       "      <th>0</th>\n",
       "      <td>048_400216_0297011_DON 2.txt</td>\n",
       "      <td>mr. chairman , how much time do i have remaini...</td>\n",
       "    </tr>\n",
       "    <tr>\n",
       "      <th>1</th>\n",
       "      <td>414_400080_3170075_DON.txt</td>\n",
       "      <td>madam speaker , i yield myself 35 seconds . \\n...</td>\n",
       "    </tr>\n",
       "    <tr>\n",
       "      <th>2</th>\n",
       "      <td>414_400061_1909178_ROY.txt</td>\n",
       "      <td>mr. chairman , i demand a recorded vote . \\n</td>\n",
       "    </tr>\n",
       "    <tr>\n",
       "      <th>3</th>\n",
       "      <td>102_400175_0641038_ROY.txt</td>\n",
       "      <td>mr. speaker , i rise today as a cosponsor of h...</td>\n",
       "    </tr>\n",
       "    <tr>\n",
       "      <th>4</th>\n",
       "      <td>414_400080_3170065_DON.txt</td>\n",
       "      <td>madam speaker , i yield myself 15 seconds . \\n...</td>\n",
       "    </tr>\n",
       "  </tbody>\n",
       "</table>\n",
       "</div>"
      ],
      "text/plain": [
       "                           File  \\\n",
       "0  048_400216_0297011_DON 2.txt   \n",
       "1    414_400080_3170075_DON.txt   \n",
       "2    414_400061_1909178_ROY.txt   \n",
       "3    102_400175_0641038_ROY.txt   \n",
       "4    414_400080_3170065_DON.txt   \n",
       "\n",
       "                                                Text  \n",
       "0  mr. chairman , how much time do i have remaini...  \n",
       "1  madam speaker , i yield myself 35 seconds . \\n...  \n",
       "2       mr. chairman , i demand a recorded vote . \\n  \n",
       "3  mr. speaker , i rise today as a cosponsor of h...  \n",
       "4  madam speaker , i yield myself 15 seconds . \\n...  "
      ]
     },
     "execution_count": 4,
     "metadata": {},
     "output_type": "execute_result"
    }
   ],
   "source": [
    "test_data.head()"
   ]
  },
  {
   "cell_type": "code",
   "execution_count": 5,
   "metadata": {},
   "outputs": [],
   "source": [
    "# Remove file extension\n",
    "train_data['File'] = train_data['File'].map(lambda x: x.replace('.txt', ''))\n",
    "test_data['File'] = test_data['File'].map(lambda x: x.replace('.txt', ''))"
   ]
  },
  {
   "cell_type": "code",
   "execution_count": 6,
   "metadata": {},
   "outputs": [],
   "source": [
    "# Add Label feature (derived from end of file name)\n",
    "Label = []\n",
    "\n",
    "for i in train_data.File:\n",
    "    Label.append(i[-3:])\n",
    "    \n",
    "train_data['Label'] = Label"
   ]
  },
  {
   "cell_type": "markdown",
   "metadata": {},
   "source": [
    "### 'Label' feature Details \n",
    "- 'P' is replaced by a party indicator, D or R (or X if no\n",
    "   corresponding party could be found).  As mentioned in the paper, we \n",
    "   purposely *did not* use this information in our experiments.\n",
    "\n",
    "- 'M' is replaced by an indicator of whether the bill under\n",
    "   discussion is mentioned directly in the speech segment, or whether it is\n",
    "   only referenced by another speech segment on the same page.  If the bill is\n",
    "   directly mentioned in the current speech, the letter M appears in\n",
    "   the file name; otherwise, the letter O appears.\n",
    "\n",
    "- 'V' is replaced by a vote indicator, Y or N, which serves as the\n",
    "   ground-truth label for the speech."
   ]
  },
  {
   "cell_type": "code",
   "execution_count": 7,
   "metadata": {},
   "outputs": [],
   "source": [
    "# Split Label into three columns\n",
    "train_data['Party'] = train_data['Label'].apply(lambda x: pd.Series(list(x)))[0]\n",
    "train_data['Discussion'] = train_data['Label'].apply(lambda x: pd.Series(list(x)))[1]\n",
    "train_data['Vote'] = train_data['Label'].apply(lambda x: pd.Series(list(x)))[2]"
   ]
  },
  {
   "cell_type": "code",
   "execution_count": 8,
   "metadata": {},
   "outputs": [
    {
     "data": {
      "text/html": [
       "<div>\n",
       "<style scoped>\n",
       "    .dataframe tbody tr th:only-of-type {\n",
       "        vertical-align: middle;\n",
       "    }\n",
       "\n",
       "    .dataframe tbody tr th {\n",
       "        vertical-align: top;\n",
       "    }\n",
       "\n",
       "    .dataframe thead th {\n",
       "        text-align: right;\n",
       "    }\n",
       "</style>\n",
       "<table border=\"1\" class=\"dataframe\">\n",
       "  <thead>\n",
       "    <tr style=\"text-align: right;\">\n",
       "      <th></th>\n",
       "      <th>File</th>\n",
       "      <th>Text</th>\n",
       "      <th>Label</th>\n",
       "      <th>Party</th>\n",
       "      <th>Discussion</th>\n",
       "      <th>Vote</th>\n",
       "    </tr>\n",
       "  </thead>\n",
       "  <tbody>\n",
       "    <tr>\n",
       "      <th>0</th>\n",
       "      <td>282_400436_1413023_DMN</td>\n",
       "      <td>mr. speaker , i would like to say a word about...</td>\n",
       "      <td>DMN</td>\n",
       "      <td>D</td>\n",
       "      <td>M</td>\n",
       "      <td>N</td>\n",
       "    </tr>\n",
       "    <tr>\n",
       "      <th>1</th>\n",
       "      <td>088_400272_2994052_DON</td>\n",
       "      <td>mr. speaker , today we have some very clear ch...</td>\n",
       "      <td>DON</td>\n",
       "      <td>D</td>\n",
       "      <td>O</td>\n",
       "      <td>N</td>\n",
       "    </tr>\n",
       "    <tr>\n",
       "      <th>2</th>\n",
       "      <td>038_400080_0251064_DON</td>\n",
       "      <td>mr. speaker , i yield myself such time as i ma...</td>\n",
       "      <td>DON</td>\n",
       "      <td>D</td>\n",
       "      <td>O</td>\n",
       "      <td>N</td>\n",
       "    </tr>\n",
       "    <tr>\n",
       "      <th>3</th>\n",
       "      <td>132_400227_0763073_DON</td>\n",
       "      <td>mr. chairman , i yield back the balance of my ...</td>\n",
       "      <td>DON</td>\n",
       "      <td>D</td>\n",
       "      <td>O</td>\n",
       "      <td>N</td>\n",
       "    </tr>\n",
       "    <tr>\n",
       "      <th>4</th>\n",
       "      <td>282_400380_1838049_ROY</td>\n",
       "      <td>madam chairman , will the gentleman yield ? \\n</td>\n",
       "      <td>ROY</td>\n",
       "      <td>R</td>\n",
       "      <td>O</td>\n",
       "      <td>Y</td>\n",
       "    </tr>\n",
       "  </tbody>\n",
       "</table>\n",
       "</div>"
      ],
      "text/plain": [
       "                     File                                               Text  \\\n",
       "0  282_400436_1413023_DMN  mr. speaker , i would like to say a word about...   \n",
       "1  088_400272_2994052_DON  mr. speaker , today we have some very clear ch...   \n",
       "2  038_400080_0251064_DON  mr. speaker , i yield myself such time as i ma...   \n",
       "3  132_400227_0763073_DON  mr. chairman , i yield back the balance of my ...   \n",
       "4  282_400380_1838049_ROY     madam chairman , will the gentleman yield ? \\n   \n",
       "\n",
       "  Label Party Discussion Vote  \n",
       "0   DMN     D          M    N  \n",
       "1   DON     D          O    N  \n",
       "2   DON     D          O    N  \n",
       "3   DON     D          O    N  \n",
       "4   ROY     R          O    Y  "
      ]
     },
     "execution_count": 8,
     "metadata": {},
     "output_type": "execute_result"
    }
   ],
   "source": [
    "train_data.head()"
   ]
  },
  {
   "cell_type": "code",
   "execution_count": 9,
   "metadata": {},
   "outputs": [],
   "source": [
    "# Test data has some Stage 2 files, not sure why - removed 2\n",
    "Label = []\n",
    "for i in test_data.File:\n",
    "    label = i.rstrip('0123456789.- ')\n",
    "    Label.append(label[-3:])\n",
    "\n",
    "test_data['Label'] = Label"
   ]
  },
  {
   "cell_type": "code",
   "execution_count": 10,
   "metadata": {},
   "outputs": [],
   "source": [
    "# Split label into distinct columns\n",
    "test_data['Party'] = test_data['Label'].apply(lambda x: pd.Series(list(x)))[0]\n",
    "test_data['Discussion'] = test_data['Label'].apply(lambda x: pd.Series(list(x)))[1]\n",
    "test_data['Vote'] = test_data['Label'].apply(lambda x: pd.Series(list(x)))[2]"
   ]
  },
  {
   "cell_type": "code",
   "execution_count": 11,
   "metadata": {},
   "outputs": [
    {
     "data": {
      "text/html": [
       "<div>\n",
       "<style scoped>\n",
       "    .dataframe tbody tr th:only-of-type {\n",
       "        vertical-align: middle;\n",
       "    }\n",
       "\n",
       "    .dataframe tbody tr th {\n",
       "        vertical-align: top;\n",
       "    }\n",
       "\n",
       "    .dataframe thead th {\n",
       "        text-align: right;\n",
       "    }\n",
       "</style>\n",
       "<table border=\"1\" class=\"dataframe\">\n",
       "  <thead>\n",
       "    <tr style=\"text-align: right;\">\n",
       "      <th></th>\n",
       "      <th>File</th>\n",
       "      <th>Text</th>\n",
       "      <th>Label</th>\n",
       "      <th>Party</th>\n",
       "      <th>Discussion</th>\n",
       "      <th>Vote</th>\n",
       "    </tr>\n",
       "  </thead>\n",
       "  <tbody>\n",
       "    <tr>\n",
       "      <th>0</th>\n",
       "      <td>048_400216_0297011_DON 2</td>\n",
       "      <td>mr. chairman , how much time do i have remaini...</td>\n",
       "      <td>DON</td>\n",
       "      <td>D</td>\n",
       "      <td>O</td>\n",
       "      <td>N</td>\n",
       "    </tr>\n",
       "    <tr>\n",
       "      <th>1</th>\n",
       "      <td>414_400080_3170075_DON</td>\n",
       "      <td>madam speaker , i yield myself 35 seconds . \\n...</td>\n",
       "      <td>DON</td>\n",
       "      <td>D</td>\n",
       "      <td>O</td>\n",
       "      <td>N</td>\n",
       "    </tr>\n",
       "    <tr>\n",
       "      <th>2</th>\n",
       "      <td>414_400061_1909178_ROY</td>\n",
       "      <td>mr. chairman , i demand a recorded vote . \\n</td>\n",
       "      <td>ROY</td>\n",
       "      <td>R</td>\n",
       "      <td>O</td>\n",
       "      <td>Y</td>\n",
       "    </tr>\n",
       "    <tr>\n",
       "      <th>3</th>\n",
       "      <td>102_400175_0641038_ROY</td>\n",
       "      <td>mr. speaker , i rise today as a cosponsor of h...</td>\n",
       "      <td>ROY</td>\n",
       "      <td>R</td>\n",
       "      <td>O</td>\n",
       "      <td>Y</td>\n",
       "    </tr>\n",
       "    <tr>\n",
       "      <th>4</th>\n",
       "      <td>414_400080_3170065_DON</td>\n",
       "      <td>madam speaker , i yield myself 15 seconds . \\n...</td>\n",
       "      <td>DON</td>\n",
       "      <td>D</td>\n",
       "      <td>O</td>\n",
       "      <td>N</td>\n",
       "    </tr>\n",
       "  </tbody>\n",
       "</table>\n",
       "</div>"
      ],
      "text/plain": [
       "                       File  \\\n",
       "0  048_400216_0297011_DON 2   \n",
       "1    414_400080_3170075_DON   \n",
       "2    414_400061_1909178_ROY   \n",
       "3    102_400175_0641038_ROY   \n",
       "4    414_400080_3170065_DON   \n",
       "\n",
       "                                                Text Label Party Discussion  \\\n",
       "0  mr. chairman , how much time do i have remaini...   DON     D          O   \n",
       "1  madam speaker , i yield myself 35 seconds . \\n...   DON     D          O   \n",
       "2       mr. chairman , i demand a recorded vote . \\n   ROY     R          O   \n",
       "3  mr. speaker , i rise today as a cosponsor of h...   ROY     R          O   \n",
       "4  madam speaker , i yield myself 15 seconds . \\n...   DON     D          O   \n",
       "\n",
       "  Vote  \n",
       "0    N  \n",
       "1    N  \n",
       "2    Y  \n",
       "3    Y  \n",
       "4    N  "
      ]
     },
     "execution_count": 11,
     "metadata": {},
     "output_type": "execute_result"
    }
   ],
   "source": [
    "test_data.head()"
   ]
  },
  {
   "cell_type": "markdown",
   "metadata": {},
   "source": [
    "### Party Speech Distribution"
   ]
  },
  {
   "cell_type": "code",
   "execution_count": 12,
   "metadata": {},
   "outputs": [
    {
     "name": "stdout",
     "output_type": "stream",
     "text": [
      "Training Party Distribution: \n",
      " D    2848\n",
      "R    2786\n",
      "I      26\n",
      "Name: Party, dtype: int64 \n",
      "\n",
      "Test Party Distribution: \n",
      " R    1782\n",
      "D    1726\n",
      "I      10\n",
      "Name: Party, dtype: int64 \n",
      "\n"
     ]
    }
   ],
   "source": [
    "print('Training Party Distribution:', '\\n', train_data['Party'].value_counts(), '\\n')\n",
    "print('Test Party Distribution:', '\\n', test_data['Party'].value_counts(), '\\n')"
   ]
  },
  {
   "cell_type": "markdown",
   "metadata": {},
   "source": [
    "### Sentence Count & Length"
   ]
  },
  {
   "cell_type": "code",
   "execution_count": 13,
   "metadata": {},
   "outputs": [],
   "source": [
    "# Add column for sentence count\n",
    "train_data['NumSents'] = train_data['Text'].apply(lambda x: len(x.strip().split('\\n')))\n",
    "test_data['NumSents'] = test_data['Text'].apply(lambda x: len(x.strip().split('\\n')))"
   ]
  },
  {
   "cell_type": "code",
   "execution_count": 14,
   "metadata": {},
   "outputs": [
    {
     "data": {
      "text/plain": [
       "0        1\n",
       "1        5\n",
       "2        1\n",
       "3       19\n",
       "4        4\n",
       "        ..\n",
       "3513     1\n",
       "3514     1\n",
       "3515     1\n",
       "3516     1\n",
       "3517    39\n",
       "Name: NumSents, Length: 3518, dtype: int64"
      ]
     },
     "execution_count": 14,
     "metadata": {},
     "output_type": "execute_result"
    }
   ],
   "source": [
    "train_data['NumSents']\n",
    "test_data['NumSents']"
   ]
  },
  {
   "cell_type": "markdown",
   "metadata": {},
   "source": [
    "# Tokenization"
   ]
  },
  {
   "cell_type": "code",
   "execution_count": 15,
   "metadata": {},
   "outputs": [
    {
     "data": {
      "text/plain": [
       "\"mr. speaker , today we have some very clear choices . \\nit is not every day that we face such black and white options -- often the issues we debate on this floor have many shades of gray . \\nbut today , there is no confusion , there is no muddying of the issues , and there is no way to mask the harm this bill would do : cut education spending for the first time in a decade , slash funding for worker and youth training , and provide no increase for home heating assistance for low-income families . \\ntoday , we have a choice . \\nwe can pass a bill that will be detrimental to our children 's future ; that will hurt students in need of financial assistance to go to college ; that will not help families struggling to pay their heating bills ; and that will severely hinder research and preventive health efforts . \\nor we can reject this bill and demand something better for american families . \\nwe have heard that this bill is the result of priorities . \\nwell , this is one point where i agree with my republican colleagues . \\nthis bill is the result of priorities . \\nthe wrong priorities , mr. speaker . \\nwhen the republican leadership of this congress is content to spend more on tax cuts than on the entire department of education or labor ; when we can spend $ 70 billion in tax cuts but can not provide children the access to technology or advanced science and math instruction they need to compete in today 's world ; when we can give millionaires a break but can not provide students even a meager increase in pell grants to help them pay for the rising cost of college ; when we can shell out billions in tax breaks to oil companies but can not help those in need prepare for what is expected to be one of the costliest winters yet ; it is clear that republicans have the wrong priorities in mind . \\nmr. speaker , our nation 's children should not have their education shortchanged because the administration had to scrounge around for a few million here and there to pay for tax cuts that benefit a small minority in this country . \\nat a time when people are losing faith in their government and their leaders , when they are asking for honesty and looking for answers to their everyday needs , this bill provides no answers . \\nthis bill tells them to go it alone . \\nmr. speaker , america deserves better than this . \\nvote no on this conference report that shortchanges and unfairly punishes everyday americans . \\n\""
      ]
     },
     "execution_count": 15,
     "metadata": {},
     "output_type": "execute_result"
    }
   ],
   "source": [
    "train_data['Text'][1]"
   ]
  },
  {
   "cell_type": "code",
   "execution_count": 16,
   "metadata": {},
   "outputs": [],
   "source": [
    "# Phrases like: 'Mr. Chairman' & 'Mr. Speaker' appear frequently - not informative\n",
    "# Add to custom stopwords list"
   ]
  },
  {
   "cell_type": "markdown",
   "metadata": {},
   "source": [
    "### Custom Stopwords Creation"
   ]
  },
  {
   "cell_type": "code",
   "execution_count": 17,
   "metadata": {},
   "outputs": [],
   "source": [
    "# Initialize builtin and custom stopwords\n",
    "stopwords = nltk.corpus.stopwords.words('english')\n",
    "customStopWords = ['mr', 'chairman','mr', 'speaker', 'madam', 'mr.']\n",
    "stopwords.extend(customStopWords)\n",
    "\n",
    "# Join stopwords and punctuation\n",
    "punct = list(string.punctuation)\n",
    "stops = stopwords + punct + ['--',\"''\", 'r.', '``', \"'s\", \"n't\"]"
   ]
  },
  {
   "cell_type": "code",
   "execution_count": 18,
   "metadata": {},
   "outputs": [],
   "source": [
    "# Function to tokenize \n",
    "def tokenize_speech(text, party):\n",
    "    if 'R' in party:\n",
    "        return [word for word in word_tokenize(text) if not word in stops]\n",
    "    elif 'D' in party:\n",
    "        return [word for word in word_tokenize(text) if not word in stops]\n",
    "    else:\n",
    "        return [word for word in word_tokenize(text) if not word in stops]\n",
    "        "
   ]
  },
  {
   "cell_type": "code",
   "execution_count": 19,
   "metadata": {},
   "outputs": [],
   "source": [
    "train_data['Tokens'] = train_data.apply(lambda x: tokenize_speech(x['Text'],x['Party']),axis=1)\n",
    "test_data['Tokens'] = test_data.apply(lambda x: tokenize_speech(x['Text'],x['Party']),axis=1)"
   ]
  },
  {
   "cell_type": "markdown",
   "metadata": {},
   "source": [
    "### Demonstration of Speech tokenization and token count(s)"
   ]
  },
  {
   "cell_type": "code",
   "execution_count": 20,
   "metadata": {},
   "outputs": [
    {
     "name": "stdout",
     "output_type": "stream",
     "text": [
      "['today', 'clear', 'choices', 'every', 'day', 'face', 'black', 'white', 'options', 'often', 'issues', 'debate', 'floor', 'many', 'shades', 'gray', 'today', 'confusion', 'muddying', 'issues', 'way', 'mask', 'harm', 'bill', 'would', 'cut', 'education', 'spending', 'first', 'time', 'decade', 'slash', 'funding', 'worker', 'youth', 'training', 'provide', 'increase', 'home', 'heating', 'assistance', 'low-income', 'families', 'today', 'choice', 'pass', 'bill', 'detrimental', 'children', 'future', 'hurt', 'students', 'need', 'financial', 'assistance', 'go', 'college', 'help', 'families', 'struggling', 'pay', 'heating', 'bills', 'severely', 'hinder', 'research', 'preventive', 'health', 'efforts', 'reject', 'bill', 'demand', 'something', 'better', 'american', 'families', 'heard', 'bill', 'result', 'priorities', 'well', 'one', 'point', 'agree', 'republican', 'colleagues', 'bill', 'result', 'priorities', 'wrong', 'priorities', 'republican', 'leadership', 'congress', 'content', 'spend', 'tax', 'cuts', 'entire', 'department', 'education', 'labor', 'spend', '70', 'billion', 'tax', 'cuts', 'provide', 'children', 'access', 'technology', 'advanced', 'science', 'math', 'instruction', 'need', 'compete', 'today', 'world', 'give', 'millionaires', 'break', 'provide', 'students', 'even', 'meager', 'increase', 'pell', 'grants', 'help', 'pay', 'rising', 'cost', 'college', 'shell', 'billions', 'tax', 'breaks', 'oil', 'companies', 'help', 'need', 'prepare', 'expected', 'one', 'costliest', 'winters', 'yet', 'clear', 'republicans', 'wrong', 'priorities', 'mind', 'nation', 'children', 'education', 'shortchanged', 'administration', 'scrounge', 'around', 'million', 'pay', 'tax', 'cuts', 'benefit', 'small', 'minority', 'country', 'time', 'people', 'losing', 'faith', 'government', 'leaders', 'asking', 'honesty', 'looking', 'answers', 'everyday', 'needs', 'bill', 'provides', 'answers', 'bill', 'tells', 'go', 'alone', 'america', 'deserves', 'better', 'vote', 'conference', 'report', 'shortchanges', 'unfairly', 'punishes', 'everyday', 'americans'] \n",
      "\n",
      "\n",
      "Total tokens: 198\n",
      "Total UNIQUE tokens: 150\n"
     ]
    }
   ],
   "source": [
    "print(train_data['Tokens'][1], '\\n\\n')\n",
    "print('Total tokens:', len(train_data['Tokens'][1]))\n",
    "print('Total UNIQUE tokens:', len(set(train_data['Tokens'][1])))"
   ]
  },
  {
   "cell_type": "markdown",
   "metadata": {},
   "source": [
    "### Total Tokens & Unique Tokens for each Speech"
   ]
  },
  {
   "cell_type": "code",
   "execution_count": 21,
   "metadata": {},
   "outputs": [],
   "source": [
    "# Create column of TOTAL token count per text\n",
    "train_data['Total_tokens'] = train_data['Tokens'].apply(lambda x: len(x))\n",
    "test_data['Total_tokens'] = test_data['Tokens'].apply(lambda x: len(x))\n",
    "\n",
    "# Create column of UNIQUE token count per text\n",
    "train_data['Unique_tokens'] = train_data['Tokens'].apply(lambda x: len(set(x)))\n",
    "test_data['Unique_tokens'] = test_data['Tokens'].apply(lambda x: len(set(x)))"
   ]
  },
  {
   "cell_type": "code",
   "execution_count": 22,
   "metadata": {},
   "outputs": [],
   "source": [
    "Rtoks = (sum(train_data.Total_tokens[train_data['Party'] == 'R']))\n",
    "Dtoks = (sum(train_data.Total_tokens[train_data['Party'] == 'D']))\n",
    "Itoks = (sum(train_data.Total_tokens[train_data['Party'] == 'I']))\n",
    "\n",
    "RtoksU = (sum(train_data.Unique_tokens[train_data['Party'] == 'R']))\n",
    "DtoksU = (sum(train_data.Unique_tokens[train_data['Party'] == 'D']))\n",
    "ItoksU = (sum(train_data.Unique_tokens[train_data['Party'] == 'I']))"
   ]
  },
  {
   "cell_type": "code",
   "execution_count": 23,
   "metadata": {},
   "outputs": [],
   "source": [
    "totalToks = Rtoks+Dtoks+Itoks\n",
    "totalToksU = RtoksU+DtoksU+ItoksU"
   ]
  },
  {
   "cell_type": "markdown",
   "metadata": {},
   "source": [
    "### Cumulative Total  & Unique Total Tokens"
   ]
  },
  {
   "cell_type": "code",
   "execution_count": 24,
   "metadata": {},
   "outputs": [
    {
     "name": "stdout",
     "output_type": "stream",
     "text": [
      "There are 720025 total words in the corpus \n",
      "\n",
      "There are 472127 UNIQUE words in the corpus\n"
     ]
    }
   ],
   "source": [
    "print(f'There are {totalToks} total words in the corpus', '\\n')\n",
    "print(f'There are {totalToksU} UNIQUE words in the corpus')"
   ]
  },
  {
   "cell_type": "markdown",
   "metadata": {},
   "source": [
    "### Cumulative Total & Unique Total Tokens by Party"
   ]
  },
  {
   "cell_type": "code",
   "execution_count": 25,
   "metadata": {},
   "outputs": [
    {
     "name": "stdout",
     "output_type": "stream",
     "text": [
      "There are 300201 words in the Republican speeches\n",
      "There are 417531 words in the Democrat speeches\n",
      "There are 2293 words in the Independent speeches \n",
      "\n",
      "There are 200033 UNIQUE words in the Republican speeches\n",
      "There are 270662 UNIQUE words in the Democrat speeches\n",
      "There are 1432 UNIQUE words in the Independent speeches\n"
     ]
    }
   ],
   "source": [
    "print(f'There are {Rtoks} words in the Republican speeches')\n",
    "print(f'There are {Dtoks} words in the Democrat speeches')\n",
    "print(f'There are {Itoks} words in the Independent speeches', '\\n')\n",
    "\n",
    "print(f'There are {RtoksU} UNIQUE words in the Republican speeches')\n",
    "print(f'There are {DtoksU} UNIQUE words in the Democrat speeches')\n",
    "print(f'There are {ItoksU} UNIQUE words in the Independent speeches')"
   ]
  },
  {
   "cell_type": "code",
   "execution_count": 26,
   "metadata": {},
   "outputs": [
    {
     "data": {
      "text/html": [
       "<div>\n",
       "<style scoped>\n",
       "    .dataframe tbody tr th:only-of-type {\n",
       "        vertical-align: middle;\n",
       "    }\n",
       "\n",
       "    .dataframe tbody tr th {\n",
       "        vertical-align: top;\n",
       "    }\n",
       "\n",
       "    .dataframe thead th {\n",
       "        text-align: right;\n",
       "    }\n",
       "</style>\n",
       "<table border=\"1\" class=\"dataframe\">\n",
       "  <thead>\n",
       "    <tr style=\"text-align: right;\">\n",
       "      <th></th>\n",
       "      <th>File</th>\n",
       "      <th>Text</th>\n",
       "      <th>Label</th>\n",
       "      <th>Party</th>\n",
       "      <th>Discussion</th>\n",
       "      <th>Vote</th>\n",
       "      <th>NumSents</th>\n",
       "      <th>Tokens</th>\n",
       "      <th>Total_tokens</th>\n",
       "      <th>Unique_tokens</th>\n",
       "    </tr>\n",
       "  </thead>\n",
       "  <tbody>\n",
       "    <tr>\n",
       "      <th>0</th>\n",
       "      <td>282_400436_1413023_DMN</td>\n",
       "      <td>mr. speaker , i would like to say a word about...</td>\n",
       "      <td>DMN</td>\n",
       "      <td>D</td>\n",
       "      <td>M</td>\n",
       "      <td>N</td>\n",
       "      <td>17</td>\n",
       "      <td>[would, like, say, word, gentleman, illinois, ...</td>\n",
       "      <td>171</td>\n",
       "      <td>129</td>\n",
       "    </tr>\n",
       "    <tr>\n",
       "      <th>1</th>\n",
       "      <td>088_400272_2994052_DON</td>\n",
       "      <td>mr. speaker , today we have some very clear ch...</td>\n",
       "      <td>DON</td>\n",
       "      <td>D</td>\n",
       "      <td>O</td>\n",
       "      <td>N</td>\n",
       "      <td>16</td>\n",
       "      <td>[today, clear, choices, every, day, face, blac...</td>\n",
       "      <td>198</td>\n",
       "      <td>150</td>\n",
       "    </tr>\n",
       "    <tr>\n",
       "      <th>2</th>\n",
       "      <td>038_400080_0251064_DON</td>\n",
       "      <td>mr. speaker , i yield myself such time as i ma...</td>\n",
       "      <td>DON</td>\n",
       "      <td>D</td>\n",
       "      <td>O</td>\n",
       "      <td>N</td>\n",
       "      <td>15</td>\n",
       "      <td>[yield, time, may, consume, would, like, brief...</td>\n",
       "      <td>155</td>\n",
       "      <td>113</td>\n",
       "    </tr>\n",
       "    <tr>\n",
       "      <th>3</th>\n",
       "      <td>132_400227_0763073_DON</td>\n",
       "      <td>mr. chairman , i yield back the balance of my ...</td>\n",
       "      <td>DON</td>\n",
       "      <td>D</td>\n",
       "      <td>O</td>\n",
       "      <td>N</td>\n",
       "      <td>1</td>\n",
       "      <td>[yield, back, balance, time]</td>\n",
       "      <td>4</td>\n",
       "      <td>4</td>\n",
       "    </tr>\n",
       "    <tr>\n",
       "      <th>4</th>\n",
       "      <td>282_400380_1838049_ROY</td>\n",
       "      <td>madam chairman , will the gentleman yield ? \\n</td>\n",
       "      <td>ROY</td>\n",
       "      <td>R</td>\n",
       "      <td>O</td>\n",
       "      <td>Y</td>\n",
       "      <td>1</td>\n",
       "      <td>[gentleman, yield]</td>\n",
       "      <td>2</td>\n",
       "      <td>2</td>\n",
       "    </tr>\n",
       "  </tbody>\n",
       "</table>\n",
       "</div>"
      ],
      "text/plain": [
       "                     File                                               Text  \\\n",
       "0  282_400436_1413023_DMN  mr. speaker , i would like to say a word about...   \n",
       "1  088_400272_2994052_DON  mr. speaker , today we have some very clear ch...   \n",
       "2  038_400080_0251064_DON  mr. speaker , i yield myself such time as i ma...   \n",
       "3  132_400227_0763073_DON  mr. chairman , i yield back the balance of my ...   \n",
       "4  282_400380_1838049_ROY     madam chairman , will the gentleman yield ? \\n   \n",
       "\n",
       "  Label Party Discussion Vote  NumSents  \\\n",
       "0   DMN     D          M    N        17   \n",
       "1   DON     D          O    N        16   \n",
       "2   DON     D          O    N        15   \n",
       "3   DON     D          O    N         1   \n",
       "4   ROY     R          O    Y         1   \n",
       "\n",
       "                                              Tokens  Total_tokens  \\\n",
       "0  [would, like, say, word, gentleman, illinois, ...           171   \n",
       "1  [today, clear, choices, every, day, face, blac...           198   \n",
       "2  [yield, time, may, consume, would, like, brief...           155   \n",
       "3                       [yield, back, balance, time]             4   \n",
       "4                                 [gentleman, yield]             2   \n",
       "\n",
       "   Unique_tokens  \n",
       "0            129  \n",
       "1            150  \n",
       "2            113  \n",
       "3              4  \n",
       "4              2  "
      ]
     },
     "execution_count": 26,
     "metadata": {},
     "output_type": "execute_result"
    }
   ],
   "source": [
    "train_data.head(5)"
   ]
  },
  {
   "cell_type": "code",
   "execution_count": 27,
   "metadata": {},
   "outputs": [
    {
     "data": {
      "text/plain": [
       "'mr. chairman , how much time do i have remaining ? \\n'"
      ]
     },
     "execution_count": 27,
     "metadata": {},
     "output_type": "execute_result"
    }
   ],
   "source": [
    "test_data['Text'][0]"
   ]
  },
  {
   "cell_type": "markdown",
   "metadata": {},
   "source": [
    "### Avg Number of Sentences by Party"
   ]
  },
  {
   "cell_type": "code",
   "execution_count": 28,
   "metadata": {},
   "outputs": [
    {
     "name": "stdout",
     "output_type": "stream",
     "text": [
      "Avg number of Republican Sentences/Speech: 9.97 \n",
      " Avg number of Democrat Sentences/Speech: 13.07 \n",
      " Avg number of Independent Sentences/Speech: 8.62\n"
     ]
    }
   ],
   "source": [
    "RsentAvg = round((train_data.NumSents[train_data['Party'] == 'R']).mean(), 2)\n",
    "DsentAvg = round((train_data.NumSents[train_data['Party'] == 'D']).mean(), 2)\n",
    "IsentAvg = round((train_data.NumSents[train_data['Party'] == 'I']).mean(), 2)\n",
    "\n",
    "print(f'Avg number of Republican Sentences/Speech: {RsentAvg}', '\\n', \n",
    "      f'Avg number of Democrat Sentences/Speech: {DsentAvg}', '\\n', \n",
    "      f'Avg number of Independent Sentences/Speech: {IsentAvg}')"
   ]
  },
  {
   "cell_type": "markdown",
   "metadata": {},
   "source": [
    "### Avg Number of Words by Party"
   ]
  },
  {
   "cell_type": "code",
   "execution_count": 29,
   "metadata": {},
   "outputs": [
    {
     "name": "stdout",
     "output_type": "stream",
     "text": [
      "Avg number of Republican Words/Speech: 107.75340990667624 \n",
      " Avg number of Democrat Words/Speech: 146.60498595505618 \n",
      " Avg number of Independent Words/Speech: 88.1923076923077\n"
     ]
    }
   ],
   "source": [
    "AvgRtoks = (train_data.Total_tokens[train_data['Party'] == 'R']).mean()\n",
    "AvgDtoks = (train_data.Total_tokens[train_data['Party'] == 'D']).mean()\n",
    "AvgItoks = (train_data.Total_tokens[train_data['Party'] == 'I']).mean()\n",
    "\n",
    "print(f'Avg number of Republican Words/Speech: {AvgRtoks}', '\\n', \n",
    "      f'Avg number of Democrat Words/Speech: {AvgDtoks}', '\\n', \n",
    "      f'Avg number of Independent Words/Speech: {AvgItoks}')"
   ]
  }
 ],
 "metadata": {
  "kernelspec": {
   "display_name": "Python 3",
   "language": "python",
   "name": "python3"
  },
  "language_info": {
   "codemirror_mode": {
    "name": "ipython",
    "version": 3
   },
   "file_extension": ".py",
   "mimetype": "text/x-python",
   "name": "python",
   "nbconvert_exporter": "python",
   "pygments_lexer": "ipython3",
   "version": "3.7.6"
  }
 },
 "nbformat": 4,
 "nbformat_minor": 4
}
